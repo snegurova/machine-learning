{
 "cells": [
  {
   "cell_type": "code",
   "execution_count": 1370,
   "metadata": {},
   "outputs": [],
   "source": [
    "import warnings\n",
    "import pandas as pd\n",
    "import numpy as np\n",
    "\n",
    "import category_encoders as ce\n",
    "from sklearn.model_selection import train_test_split\n",
    "from sklearn.neighbors import KNeighborsRegressor\n",
    "from sklearn.metrics import mean_absolute_percentage_error\n",
    "from sklearn.preprocessing import PowerTransformer"
   ]
  },
  {
   "cell_type": "code",
   "execution_count": 1371,
   "metadata": {},
   "outputs": [
    {
     "name": "stdout",
     "output_type": "stream",
     "text": [
      "<class 'pandas.core.frame.DataFrame'>\n",
      "RangeIndex: 249 entries, 0 to 248\n",
      "Data columns (total 9 columns):\n",
      " #   Column         Non-Null Count  Dtype  \n",
      "---  ------         --------------  -----  \n",
      " 0   Name           249 non-null    object \n",
      " 1   Phone_Number   249 non-null    object \n",
      " 2   Experience     247 non-null    float64\n",
      " 3   Qualification  248 non-null    object \n",
      " 4   University     249 non-null    object \n",
      " 5   Role           246 non-null    object \n",
      " 6   Cert           247 non-null    object \n",
      " 7   Date_Of_Birth  249 non-null    object \n",
      " 8   Salary         249 non-null    int64  \n",
      "dtypes: float64(1), int64(1), object(7)\n",
      "memory usage: 17.6+ KB\n"
     ]
    }
   ],
   "source": [
    "train_data = pd.read_csv('./mod_04_hw_train_data.csv')\n",
    "train_data.info()"
   ]
  },
  {
   "cell_type": "code",
   "execution_count": 1372,
   "metadata": {},
   "outputs": [
    {
     "name": "stdout",
     "output_type": "stream",
     "text": [
      "<class 'pandas.core.frame.DataFrame'>\n",
      "RangeIndex: 7 entries, 0 to 6\n",
      "Data columns (total 9 columns):\n",
      " #   Column         Non-Null Count  Dtype \n",
      "---  ------         --------------  ----- \n",
      " 0   Name           7 non-null      object\n",
      " 1   Phone_Number   7 non-null      object\n",
      " 2   Experience     7 non-null      int64 \n",
      " 3   Qualification  7 non-null      object\n",
      " 4   University     7 non-null      object\n",
      " 5   Role           7 non-null      object\n",
      " 6   Cert           7 non-null      object\n",
      " 7   Date_Of_Birth  7 non-null      object\n",
      " 8   Salary         7 non-null      int64 \n",
      "dtypes: int64(2), object(7)\n",
      "memory usage: 636.0+ bytes\n"
     ]
    }
   ],
   "source": [
    "test_data = pd.read_csv('./mod_04_hw_valid_data.csv')\n",
    "test_data.info()"
   ]
  },
  {
   "cell_type": "code",
   "execution_count": 1373,
   "metadata": {},
   "outputs": [
    {
     "data": {
      "text/plain": [
       "Name             248\n",
       "Phone_Number     249\n",
       "Experience         5\n",
       "Qualification      3\n",
       "University         3\n",
       "Role               3\n",
       "Cert               2\n",
       "Date_Of_Birth    247\n",
       "Salary            84\n",
       "dtype: int64"
      ]
     },
     "execution_count": 1373,
     "metadata": {},
     "output_type": "execute_result"
    }
   ],
   "source": [
    "train_data.nunique()"
   ]
  },
  {
   "cell_type": "code",
   "execution_count": 1374,
   "metadata": {},
   "outputs": [],
   "source": [
    "train_data.drop(['Name', 'Phone_Number', 'Date_Of_Birth'], axis=1, inplace=True)\n",
    "test_data.drop(['Name', 'Phone_Number', 'Date_Of_Birth'], axis=1, inplace=True)"
   ]
  },
  {
   "cell_type": "code",
   "execution_count": 1375,
   "metadata": {},
   "outputs": [],
   "source": [
    "y_train = train_data['Salary']\n",
    "y_test = test_data['Salary']\n",
    "X_train = train_data.drop('Salary', axis=1)\n",
    "X_test = test_data.drop('Salary', axis=1)\n"
   ]
  },
  {
   "cell_type": "code",
   "execution_count": 1376,
   "metadata": {},
   "outputs": [],
   "source": [
    "X_train = X_train.dropna()\n",
    "X_test = X_test.dropna()\n",
    "\n",
    "y_train = y_train.loc[X_train.index]\n",
    "y_test = y_test.loc[X_test.index]"
   ]
  },
  {
   "cell_type": "code",
   "execution_count": 1377,
   "metadata": {},
   "outputs": [
    {
     "data": {
      "text/plain": [
       "Qualification    3\n",
       "University       3\n",
       "Role             3\n",
       "Cert             2\n",
       "dtype: int64"
      ]
     },
     "execution_count": 1377,
     "metadata": {},
     "output_type": "execute_result"
    }
   ],
   "source": [
    "X_train.select_dtypes(include='object').nunique()"
   ]
  },
  {
   "cell_type": "code",
   "execution_count": 1378,
   "metadata": {},
   "outputs": [],
   "source": [
    "categorical_features = X_train.select_dtypes(include=['object']).columns"
   ]
  },
  {
   "cell_type": "code",
   "execution_count": 1379,
   "metadata": {},
   "outputs": [],
   "source": [
    "target_encoder = ce.TargetEncoder(cols=categorical_features)\n",
    "\n",
    "X_train[categorical_features] = target_encoder.fit_transform(X_train[categorical_features], y_train)\n",
    "\n",
    "X_test[categorical_features] = target_encoder.transform(X_test[categorical_features])"
   ]
  },
  {
   "cell_type": "code",
   "execution_count": 1380,
   "metadata": {},
   "outputs": [],
   "source": [
    "transformer = PowerTransformer()\n",
    "X_train = transformer.fit_transform(X_train)\n",
    "X_test = transformer.transform(X_test)"
   ]
  },
  {
   "cell_type": "code",
   "execution_count": 1381,
   "metadata": {},
   "outputs": [
    {
     "name": "stdout",
     "output_type": "stream",
     "text": [
      "MAPE: 4.56%\n"
     ]
    }
   ],
   "source": [
    "model = KNeighborsRegressor(n_neighbors=10)\n",
    "model.fit(X_train, y_train)\n",
    "y_pred = model.predict(X_test)\n",
    "\n",
    "mape = mean_absolute_percentage_error(y_test, y_pred)\n",
    "print(f'MAPE: {mape * 100:.2f}%')"
   ]
  },
  {
   "cell_type": "markdown",
   "metadata": {},
   "source": [
    "### Висновок:\n",
    "1. Якість моделі:\n",
    "\n",
    "    - Поточне значення MAPE = 4.56% вказує на те, що середня абсолютна похибка моделі становить 4.56% від реальних значень. Це є досить гарним результатом для задачі регресії, оскільки прогнозування заробітної плати з такою точністю є прийнятним для більшості прикладних задач.\n",
    "2. Основні аспекти аналізу моделі:\n",
    "\n",
    "    - n_neighbors = 10: Вибір 10 сусідів є хорошим компромісом між точністю та узагальненням. 10 дав найкращий результат в діапазоні до 21.\n",
    "    - Метрика відстані: Використовується евклідова відстань за замовчуванням. Інші варанти не дали покращення моделі.\n",
    "    - Попередня обробка даних: Використання PowerTransformer покращило якість, адже ця трансформація допомагає зробити дані більш нормалізованими."
   ]
  }
 ],
 "metadata": {
  "kernelspec": {
   "display_name": "env_mlf",
   "language": "python",
   "name": "python3"
  },
  "language_info": {
   "codemirror_mode": {
    "name": "ipython",
    "version": 3
   },
   "file_extension": ".py",
   "mimetype": "text/x-python",
   "name": "python",
   "nbconvert_exporter": "python",
   "pygments_lexer": "ipython3",
   "version": "3.12.2"
  }
 },
 "nbformat": 4,
 "nbformat_minor": 2
}
