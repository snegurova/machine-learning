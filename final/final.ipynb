{
 "cells": [
  {
   "cell_type": "code",
   "execution_count": 1363,
   "metadata": {},
   "outputs": [],
   "source": [
    "import pandas as pd\n",
    "import numpy as np\n",
    "from sklearn.model_selection import train_test_split, cross_val_score, GridSearchCV\n",
    "from sklearn.preprocessing import StandardScaler\n",
    "from sklearn.compose import ColumnTransformer\n",
    "from sklearn.impute import SimpleImputer\n",
    "from sklearn.ensemble import RandomForestClassifier, GradientBoostingClassifier, StackingClassifier, VotingClassifier\n",
    "from sklearn.metrics import balanced_accuracy_score, classification_report\n",
    "from category_encoders import TargetEncoder\n",
    "from imblearn.over_sampling import SMOTE\n",
    "from imblearn.pipeline import Pipeline as ImbPipeline\n",
    "from scipy.stats import zscore"
   ]
  },
  {
   "cell_type": "code",
   "execution_count": 1364,
   "metadata": {},
   "outputs": [],
   "source": [
    "data = pd.read_csv('./final_proj_data.csv')\n",
    "test_data = pd.read_csv('./final_proj_test.csv')"
   ]
  },
  {
   "cell_type": "code",
   "execution_count": 1365,
   "metadata": {},
   "outputs": [
    {
     "name": "stdout",
     "output_type": "stream",
     "text": [
      "<class 'pandas.core.frame.DataFrame'>\n",
      "RangeIndex: 10000 entries, 0 to 9999\n",
      "Columns: 231 entries, Var1 to y\n",
      "dtypes: float64(191), int64(2), object(38)\n",
      "memory usage: 17.6+ MB\n",
      "None\n",
      "             Var1   Var2          Var3        Var4          Var5  \\\n",
      "count  133.000000  266.0    266.000000  280.000000  2.410000e+02   \n",
      "mean    14.977444    0.0    341.052632    0.096429  2.338101e+05   \n",
      "std     66.456008    0.0   2810.606975    0.928243  5.532305e+05   \n",
      "min      0.000000    0.0      0.000000    0.000000  0.000000e+00   \n",
      "25%      0.000000    0.0      0.000000    0.000000  0.000000e+00   \n",
      "50%      0.000000    0.0      0.000000    0.000000  0.000000e+00   \n",
      "75%     16.000000    0.0      0.000000    0.000000  1.172350e+05   \n",
      "max    680.000000    0.0  42588.000000    9.000000  3.024000e+06   \n",
      "\n",
      "               Var6         Var7  Var8         Var9         Var10  ...  \\\n",
      "count   8980.000000  8995.000000   0.0   133.000000  2.410000e+02  ...   \n",
      "mean    1340.916258     6.860700   NaN    61.383459  3.672943e+05  ...   \n",
      "std     2380.516758     6.300994   NaN   266.124849  8.234215e+05  ...   \n",
      "min        0.000000     0.000000   NaN     0.000000  0.000000e+00  ...   \n",
      "25%      523.250000     0.000000   NaN     2.000000  0.000000e+00  ...   \n",
      "50%      861.000000     7.000000   NaN    18.000000  0.000000e+00  ...   \n",
      "75%     1428.000000     7.000000   NaN    40.000000  2.439360e+05  ...   \n",
      "max    76195.000000    35.000000   NaN  2300.000000  6.394806e+06  ...   \n",
      "\n",
      "           Var184  Var185      Var186      Var187      Var188       Var189  \\\n",
      "count  266.000000     0.0  133.000000  133.000000  266.000000  4206.000000   \n",
      "mean     6.180451     NaN    2.977444   20.601504  159.107368   272.455064   \n",
      "std     12.177204     NaN   10.329764   93.736247  115.766972    86.752531   \n",
      "min      0.000000     NaN    0.000000    0.000000    0.000000     6.000000   \n",
      "25%      0.000000     NaN    0.000000    0.000000   18.840000   204.000000   \n",
      "50%      0.000000     NaN    0.000000    4.000000  194.670000   270.000000   \n",
      "75%      7.000000     NaN    0.000000   12.000000  247.080000   330.000000   \n",
      "max     64.000000     NaN  102.000000  878.000000  452.760000   642.000000   \n",
      "\n",
      "              Var190  Var209  Var230            y  \n",
      "count      43.000000     0.0     0.0  10000.00000  \n",
      "mean    25725.112326     NaN     NaN      0.13050  \n",
      "std     37487.484852     NaN     NaN      0.33687  \n",
      "min         0.000000     NaN     NaN      0.00000  \n",
      "25%      1312.875000     NaN     NaN      0.00000  \n",
      "50%     10853.820000     NaN     NaN      0.00000  \n",
      "75%     37491.525000     NaN     NaN      0.00000  \n",
      "max    191167.200000     NaN     NaN      1.00000  \n",
      "\n",
      "[8 rows x 193 columns]\n"
     ]
    }
   ],
   "source": [
    "print(data.info())\n",
    "print(data.describe())"
   ]
  },
  {
   "cell_type": "code",
   "execution_count": 1366,
   "metadata": {},
   "outputs": [
    {
     "name": "stdout",
     "output_type": "stream",
     "text": [
      "Var1       9867\n",
      "Var2       9734\n",
      "Var3       9734\n",
      "Var4       9720\n",
      "Var5       9759\n",
      "          ...  \n",
      "Var227        0\n",
      "Var228        0\n",
      "Var229     5561\n",
      "Var230    10000\n",
      "y             0\n",
      "Length: 231, dtype: int64\n"
     ]
    }
   ],
   "source": [
    "print(data.isnull().sum())"
   ]
  },
  {
   "cell_type": "code",
   "execution_count": 1367,
   "metadata": {},
   "outputs": [],
   "source": [
    "col_threshold = int(data.shape[0] * 0.3)\n",
    "cols_to_drop = data.columns[data.isnull().sum() > col_threshold]\n",
    "data.drop(columns=cols_to_drop, inplace=True)"
   ]
  },
  {
   "cell_type": "code",
   "execution_count": 1368,
   "metadata": {},
   "outputs": [
    {
     "name": "stdout",
     "output_type": "stream",
     "text": [
      "Dropping columns with too many unique values: ['Var202', 'Var217']\n"
     ]
    }
   ],
   "source": [
    "unique_threshold = int(data.shape[0] * 0.3)\n",
    "cols_with_many_uniques = [col for col in data.select_dtypes(include=['object', 'category']).columns \n",
    "                           if data[col].nunique() > unique_threshold]\n",
    "print(f\"Dropping columns with too many unique values: {cols_with_many_uniques}\")\n",
    "data.drop(columns=cols_with_many_uniques, inplace=True)"
   ]
  },
  {
   "cell_type": "code",
   "execution_count": 1369,
   "metadata": {},
   "outputs": [],
   "source": [
    "X_test = test_data.drop(columns=cols_to_drop)"
   ]
  },
  {
   "cell_type": "code",
   "execution_count": 1370,
   "metadata": {},
   "outputs": [],
   "source": [
    "num_imputer = SimpleImputer(strategy='median')\n",
    "num_cols = data.drop('y', axis=1).select_dtypes(include=['float64', 'int64']).columns\n",
    "\n",
    "data[num_cols] = num_imputer.fit_transform(data[num_cols])\n",
    "X_test[num_cols] = num_imputer.transform(X_test[num_cols])"
   ]
  },
  {
   "cell_type": "code",
   "execution_count": 1371,
   "metadata": {},
   "outputs": [],
   "source": [
    "cat_imputer = SimpleImputer(strategy='most_frequent')\n",
    "cat_cols = data.drop('y', axis=1).select_dtypes(include=['object', 'category']).columns\n",
    "\n",
    "data[cat_cols] = cat_imputer.fit_transform(data[cat_cols])\n",
    "X_test[cat_cols] = cat_imputer.transform(X_test[cat_cols])"
   ]
  },
  {
   "cell_type": "code",
   "execution_count": 1372,
   "metadata": {},
   "outputs": [],
   "source": [
    "categorical_features = data.select_dtypes(include=['object', 'category']).columns.tolist()\n",
    "numerical_features = data.select_dtypes(include=['float64', 'int64']).columns.tolist()\n",
    "numerical_features.remove('y')"
   ]
  },
  {
   "cell_type": "code",
   "execution_count": 1373,
   "metadata": {},
   "outputs": [],
   "source": [
    "target_encoder = TargetEncoder(cols=categorical_features)\n",
    "data[categorical_features] = target_encoder.fit_transform(data[categorical_features], data['y'])\n",
    "test_data[categorical_features] = target_encoder.transform(test_data[categorical_features])"
   ]
  },
  {
   "cell_type": "code",
   "execution_count": 1374,
   "metadata": {},
   "outputs": [
    {
     "name": "stdout",
     "output_type": "stream",
     "text": [
      "Dataset size after outlier removal: (7303, 66)\n"
     ]
    }
   ],
   "source": [
    "z_scores = data[numerical_features].apply(zscore)\n",
    "data = data[(np.abs(z_scores) < 3).all(axis=1)]\n",
    "print(f\"Dataset size after outlier removal: {data.shape}\")"
   ]
  },
  {
   "cell_type": "code",
   "execution_count": 1375,
   "metadata": {},
   "outputs": [],
   "source": [
    "X = data.drop(columns=['y'])\n",
    "y = data['y']\n",
    "X_train, X_val, y_train, y_val = train_test_split(X, y, test_size=0.2, random_state=42, stratify=y)"
   ]
  },
  {
   "cell_type": "code",
   "execution_count": 1376,
   "metadata": {},
   "outputs": [
    {
     "name": "stdout",
     "output_type": "stream",
     "text": [
      "Selected important features: ['Var6', 'Var13', 'Var21', 'Var22', 'Var24', 'Var25', 'Var28', 'Var38', 'Var57', 'Var73', 'Var74', 'Var76', 'Var81', 'Var83', 'Var85', 'Var109', 'Var112', 'Var113', 'Var119', 'Var123', 'Var125', 'Var126', 'Var133', 'Var134', 'Var140', 'Var144', 'Var149', 'Var153', 'Var160', 'Var163']\n"
     ]
    }
   ],
   "source": [
    "model_for_importance = RandomForestClassifier(random_state=42)\n",
    "model_for_importance.fit(X_train[numerical_features], y_train)\n",
    "feature_importances = pd.Series(model_for_importance.feature_importances_, index=numerical_features)\n",
    "important_features = feature_importances[feature_importances > 0.01].index.tolist()\n",
    "print(f\"Selected important features: {important_features}\")\n",
    "numerical_features = important_features"
   ]
  },
  {
   "cell_type": "code",
   "execution_count": 1377,
   "metadata": {},
   "outputs": [],
   "source": [
    "preprocessor = ColumnTransformer(\n",
    "    transformers=[\n",
    "        ('num', StandardScaler(), numerical_features)\n",
    "    ]\n",
    ")"
   ]
  },
  {
   "cell_type": "code",
   "execution_count": 1378,
   "metadata": {},
   "outputs": [],
   "source": [
    "oversampler = SMOTE(random_state=42)"
   ]
  },
  {
   "cell_type": "code",
   "execution_count": 1379,
   "metadata": {},
   "outputs": [],
   "source": [
    "rf_model = RandomForestClassifier(random_state=42)\n",
    "gb_model = GradientBoostingClassifier(random_state=42)\n",
    "\n",
    "stacking_model = StackingClassifier(\n",
    "    estimators=[\n",
    "        ('rf', rf_model),\n",
    "        ('gb', gb_model),\n",
    "    ],\n",
    "    final_estimator=RandomForestClassifier(random_state=42)\n",
    ")\n",
    "voting_model = VotingClassifier(\n",
    "    estimators=[\n",
    "        ('rf', rf_model),\n",
    "        ('gb', gb_model),\n",
    "    ],\n",
    "    voting='soft',\n",
    ")"
   ]
  },
  {
   "cell_type": "code",
   "execution_count": 1380,
   "metadata": {},
   "outputs": [],
   "source": [
    "pipeline = ImbPipeline([\n",
    "    ('preprocessor', preprocessor),\n",
    "    ('oversampler', oversampler),\n",
    "    ('classifier', voting_model)\n",
    "])"
   ]
  },
  {
   "cell_type": "code",
   "execution_count": 1381,
   "metadata": {},
   "outputs": [],
   "source": [
    "param_grid = {\n",
    "    'classifier__rf__n_estimators': [100, 200],\n",
    "    'classifier__rf__max_depth': [10, None],\n",
    "    'classifier__rf__min_samples_split': [2, 10],\n",
    "    'classifier__rf__min_samples_leaf': [1, 4],\n",
    "    'classifier__rf__max_features': ['sqrt', None]\n",
    "}"
   ]
  },
  {
   "cell_type": "code",
   "execution_count": 1382,
   "metadata": {},
   "outputs": [
    {
     "data": {
      "text/html": [
       "<style>#sk-container-id-29 {color: black;}#sk-container-id-29 pre{padding: 0;}#sk-container-id-29 div.sk-toggleable {background-color: white;}#sk-container-id-29 label.sk-toggleable__label {cursor: pointer;display: block;width: 100%;margin-bottom: 0;padding: 0.3em;box-sizing: border-box;text-align: center;}#sk-container-id-29 label.sk-toggleable__label-arrow:before {content: \"▸\";float: left;margin-right: 0.25em;color: #696969;}#sk-container-id-29 label.sk-toggleable__label-arrow:hover:before {color: black;}#sk-container-id-29 div.sk-estimator:hover label.sk-toggleable__label-arrow:before {color: black;}#sk-container-id-29 div.sk-toggleable__content {max-height: 0;max-width: 0;overflow: hidden;text-align: left;background-color: #f0f8ff;}#sk-container-id-29 div.sk-toggleable__content pre {margin: 0.2em;color: black;border-radius: 0.25em;background-color: #f0f8ff;}#sk-container-id-29 input.sk-toggleable__control:checked~div.sk-toggleable__content {max-height: 200px;max-width: 100%;overflow: auto;}#sk-container-id-29 input.sk-toggleable__control:checked~label.sk-toggleable__label-arrow:before {content: \"▾\";}#sk-container-id-29 div.sk-estimator input.sk-toggleable__control:checked~label.sk-toggleable__label {background-color: #d4ebff;}#sk-container-id-29 div.sk-label input.sk-toggleable__control:checked~label.sk-toggleable__label {background-color: #d4ebff;}#sk-container-id-29 input.sk-hidden--visually {border: 0;clip: rect(1px 1px 1px 1px);clip: rect(1px, 1px, 1px, 1px);height: 1px;margin: -1px;overflow: hidden;padding: 0;position: absolute;width: 1px;}#sk-container-id-29 div.sk-estimator {font-family: monospace;background-color: #f0f8ff;border: 1px dotted black;border-radius: 0.25em;box-sizing: border-box;margin-bottom: 0.5em;}#sk-container-id-29 div.sk-estimator:hover {background-color: #d4ebff;}#sk-container-id-29 div.sk-parallel-item::after {content: \"\";width: 100%;border-bottom: 1px solid gray;flex-grow: 1;}#sk-container-id-29 div.sk-label:hover label.sk-toggleable__label {background-color: #d4ebff;}#sk-container-id-29 div.sk-serial::before {content: \"\";position: absolute;border-left: 1px solid gray;box-sizing: border-box;top: 0;bottom: 0;left: 50%;z-index: 0;}#sk-container-id-29 div.sk-serial {display: flex;flex-direction: column;align-items: center;background-color: white;padding-right: 0.2em;padding-left: 0.2em;position: relative;}#sk-container-id-29 div.sk-item {position: relative;z-index: 1;}#sk-container-id-29 div.sk-parallel {display: flex;align-items: stretch;justify-content: center;background-color: white;position: relative;}#sk-container-id-29 div.sk-item::before, #sk-container-id-29 div.sk-parallel-item::before {content: \"\";position: absolute;border-left: 1px solid gray;box-sizing: border-box;top: 0;bottom: 0;left: 50%;z-index: -1;}#sk-container-id-29 div.sk-parallel-item {display: flex;flex-direction: column;z-index: 1;position: relative;background-color: white;}#sk-container-id-29 div.sk-parallel-item:first-child::after {align-self: flex-end;width: 50%;}#sk-container-id-29 div.sk-parallel-item:last-child::after {align-self: flex-start;width: 50%;}#sk-container-id-29 div.sk-parallel-item:only-child::after {width: 0;}#sk-container-id-29 div.sk-dashed-wrapped {border: 1px dashed gray;margin: 0 0.4em 0.5em 0.4em;box-sizing: border-box;padding-bottom: 0.4em;background-color: white;}#sk-container-id-29 div.sk-label label {font-family: monospace;font-weight: bold;display: inline-block;line-height: 1.2em;}#sk-container-id-29 div.sk-label-container {text-align: center;}#sk-container-id-29 div.sk-container {/* jupyter's `normalize.less` sets `[hidden] { display: none; }` but bootstrap.min.css set `[hidden] { display: none !important; }` so we also need the `!important` here to be able to override the default hidden behavior on the sphinx rendered scikit-learn.org. See: https://github.com/scikit-learn/scikit-learn/issues/21755 */display: inline-block !important;position: relative;}#sk-container-id-29 div.sk-text-repr-fallback {display: none;}</style><div id=\"sk-container-id-29\" class=\"sk-top-container\"><div class=\"sk-text-repr-fallback\"><pre>GridSearchCV(cv=3,\n",
       "             estimator=Pipeline(steps=[(&#x27;preprocessor&#x27;,\n",
       "                                        ColumnTransformer(transformers=[(&#x27;num&#x27;,\n",
       "                                                                         StandardScaler(),\n",
       "                                                                         [&#x27;Var6&#x27;,\n",
       "                                                                          &#x27;Var13&#x27;,\n",
       "                                                                          &#x27;Var21&#x27;,\n",
       "                                                                          &#x27;Var22&#x27;,\n",
       "                                                                          &#x27;Var24&#x27;,\n",
       "                                                                          &#x27;Var25&#x27;,\n",
       "                                                                          &#x27;Var28&#x27;,\n",
       "                                                                          &#x27;Var38&#x27;,\n",
       "                                                                          &#x27;Var57&#x27;,\n",
       "                                                                          &#x27;Var73&#x27;,\n",
       "                                                                          &#x27;Var74&#x27;,\n",
       "                                                                          &#x27;Var76&#x27;,\n",
       "                                                                          &#x27;Var81&#x27;,\n",
       "                                                                          &#x27;Var83&#x27;,\n",
       "                                                                          &#x27;Var85&#x27;,\n",
       "                                                                          &#x27;Var109&#x27;,\n",
       "                                                                          &#x27;Var112&#x27;,\n",
       "                                                                          &#x27;Var113&#x27;,\n",
       "                                                                          &#x27;Var119&#x27;,\n",
       "                                                                          &#x27;Var123&#x27;,\n",
       "                                                                          &#x27;Var125&#x27;,\n",
       "                                                                          &#x27;Var126&#x27;,\n",
       "                                                                          &#x27;Var133&#x27;,\n",
       "                                                                          &#x27;Var134&#x27;,\n",
       "                                                                          &#x27;Var140&#x27;,\n",
       "                                                                          &#x27;Var144&#x27;,\n",
       "                                                                          &#x27;Var149&#x27;,\n",
       "                                                                          &#x27;Var15...\n",
       "                                                                      RandomForestClassifier(random_state=42)),\n",
       "                                                                     (&#x27;gb&#x27;,\n",
       "                                                                      GradientBoostingClassifier(random_state=42))],\n",
       "                                                         voting=&#x27;soft&#x27;))]),\n",
       "             n_jobs=-1,\n",
       "             param_grid={&#x27;classifier__rf__max_depth&#x27;: [10, None],\n",
       "                         &#x27;classifier__rf__max_features&#x27;: [&#x27;sqrt&#x27;, None],\n",
       "                         &#x27;classifier__rf__min_samples_leaf&#x27;: [1, 4],\n",
       "                         &#x27;classifier__rf__min_samples_split&#x27;: [2, 10],\n",
       "                         &#x27;classifier__rf__n_estimators&#x27;: [100, 200]},\n",
       "             scoring=&#x27;balanced_accuracy&#x27;)</pre><b>In a Jupyter environment, please rerun this cell to show the HTML representation or trust the notebook. <br />On GitHub, the HTML representation is unable to render, please try loading this page with nbviewer.org.</b></div><div class=\"sk-container\" hidden><div class=\"sk-item sk-dashed-wrapped\"><div class=\"sk-label-container\"><div class=\"sk-label sk-toggleable\"><input class=\"sk-toggleable__control sk-hidden--visually\" id=\"sk-estimator-id-247\" type=\"checkbox\" ><label for=\"sk-estimator-id-247\" class=\"sk-toggleable__label sk-toggleable__label-arrow\">GridSearchCV</label><div class=\"sk-toggleable__content\"><pre>GridSearchCV(cv=3,\n",
       "             estimator=Pipeline(steps=[(&#x27;preprocessor&#x27;,\n",
       "                                        ColumnTransformer(transformers=[(&#x27;num&#x27;,\n",
       "                                                                         StandardScaler(),\n",
       "                                                                         [&#x27;Var6&#x27;,\n",
       "                                                                          &#x27;Var13&#x27;,\n",
       "                                                                          &#x27;Var21&#x27;,\n",
       "                                                                          &#x27;Var22&#x27;,\n",
       "                                                                          &#x27;Var24&#x27;,\n",
       "                                                                          &#x27;Var25&#x27;,\n",
       "                                                                          &#x27;Var28&#x27;,\n",
       "                                                                          &#x27;Var38&#x27;,\n",
       "                                                                          &#x27;Var57&#x27;,\n",
       "                                                                          &#x27;Var73&#x27;,\n",
       "                                                                          &#x27;Var74&#x27;,\n",
       "                                                                          &#x27;Var76&#x27;,\n",
       "                                                                          &#x27;Var81&#x27;,\n",
       "                                                                          &#x27;Var83&#x27;,\n",
       "                                                                          &#x27;Var85&#x27;,\n",
       "                                                                          &#x27;Var109&#x27;,\n",
       "                                                                          &#x27;Var112&#x27;,\n",
       "                                                                          &#x27;Var113&#x27;,\n",
       "                                                                          &#x27;Var119&#x27;,\n",
       "                                                                          &#x27;Var123&#x27;,\n",
       "                                                                          &#x27;Var125&#x27;,\n",
       "                                                                          &#x27;Var126&#x27;,\n",
       "                                                                          &#x27;Var133&#x27;,\n",
       "                                                                          &#x27;Var134&#x27;,\n",
       "                                                                          &#x27;Var140&#x27;,\n",
       "                                                                          &#x27;Var144&#x27;,\n",
       "                                                                          &#x27;Var149&#x27;,\n",
       "                                                                          &#x27;Var15...\n",
       "                                                                      RandomForestClassifier(random_state=42)),\n",
       "                                                                     (&#x27;gb&#x27;,\n",
       "                                                                      GradientBoostingClassifier(random_state=42))],\n",
       "                                                         voting=&#x27;soft&#x27;))]),\n",
       "             n_jobs=-1,\n",
       "             param_grid={&#x27;classifier__rf__max_depth&#x27;: [10, None],\n",
       "                         &#x27;classifier__rf__max_features&#x27;: [&#x27;sqrt&#x27;, None],\n",
       "                         &#x27;classifier__rf__min_samples_leaf&#x27;: [1, 4],\n",
       "                         &#x27;classifier__rf__min_samples_split&#x27;: [2, 10],\n",
       "                         &#x27;classifier__rf__n_estimators&#x27;: [100, 200]},\n",
       "             scoring=&#x27;balanced_accuracy&#x27;)</pre></div></div></div><div class=\"sk-parallel\"><div class=\"sk-parallel-item\"><div class=\"sk-item\"><div class=\"sk-label-container\"><div class=\"sk-label sk-toggleable\"><input class=\"sk-toggleable__control sk-hidden--visually\" id=\"sk-estimator-id-248\" type=\"checkbox\" ><label for=\"sk-estimator-id-248\" class=\"sk-toggleable__label sk-toggleable__label-arrow\">estimator: Pipeline</label><div class=\"sk-toggleable__content\"><pre>Pipeline(steps=[(&#x27;preprocessor&#x27;,\n",
       "                 ColumnTransformer(transformers=[(&#x27;num&#x27;, StandardScaler(),\n",
       "                                                  [&#x27;Var6&#x27;, &#x27;Var13&#x27;, &#x27;Var21&#x27;,\n",
       "                                                   &#x27;Var22&#x27;, &#x27;Var24&#x27;, &#x27;Var25&#x27;,\n",
       "                                                   &#x27;Var28&#x27;, &#x27;Var38&#x27;, &#x27;Var57&#x27;,\n",
       "                                                   &#x27;Var73&#x27;, &#x27;Var74&#x27;, &#x27;Var76&#x27;,\n",
       "                                                   &#x27;Var81&#x27;, &#x27;Var83&#x27;, &#x27;Var85&#x27;,\n",
       "                                                   &#x27;Var109&#x27;, &#x27;Var112&#x27;, &#x27;Var113&#x27;,\n",
       "                                                   &#x27;Var119&#x27;, &#x27;Var123&#x27;, &#x27;Var125&#x27;,\n",
       "                                                   &#x27;Var126&#x27;, &#x27;Var133&#x27;, &#x27;Var134&#x27;,\n",
       "                                                   &#x27;Var140&#x27;, &#x27;Var144&#x27;, &#x27;Var149&#x27;,\n",
       "                                                   &#x27;Var153&#x27;, &#x27;Var160&#x27;,\n",
       "                                                   &#x27;Var163&#x27;])])),\n",
       "                (&#x27;oversampler&#x27;, SMOTE(random_state=42)),\n",
       "                (&#x27;classifier&#x27;,\n",
       "                 VotingClassifier(estimators=[(&#x27;rf&#x27;,\n",
       "                                               RandomForestClassifier(random_state=42)),\n",
       "                                              (&#x27;gb&#x27;,\n",
       "                                               GradientBoostingClassifier(random_state=42))],\n",
       "                                  voting=&#x27;soft&#x27;))])</pre></div></div></div><div class=\"sk-serial\"><div class=\"sk-item\"><div class=\"sk-serial\"><div class=\"sk-item sk-dashed-wrapped\"><div class=\"sk-label-container\"><div class=\"sk-label sk-toggleable\"><input class=\"sk-toggleable__control sk-hidden--visually\" id=\"sk-estimator-id-249\" type=\"checkbox\" ><label for=\"sk-estimator-id-249\" class=\"sk-toggleable__label sk-toggleable__label-arrow\">preprocessor: ColumnTransformer</label><div class=\"sk-toggleable__content\"><pre>ColumnTransformer(transformers=[(&#x27;num&#x27;, StandardScaler(),\n",
       "                                 [&#x27;Var6&#x27;, &#x27;Var13&#x27;, &#x27;Var21&#x27;, &#x27;Var22&#x27;, &#x27;Var24&#x27;,\n",
       "                                  &#x27;Var25&#x27;, &#x27;Var28&#x27;, &#x27;Var38&#x27;, &#x27;Var57&#x27;, &#x27;Var73&#x27;,\n",
       "                                  &#x27;Var74&#x27;, &#x27;Var76&#x27;, &#x27;Var81&#x27;, &#x27;Var83&#x27;, &#x27;Var85&#x27;,\n",
       "                                  &#x27;Var109&#x27;, &#x27;Var112&#x27;, &#x27;Var113&#x27;, &#x27;Var119&#x27;,\n",
       "                                  &#x27;Var123&#x27;, &#x27;Var125&#x27;, &#x27;Var126&#x27;, &#x27;Var133&#x27;,\n",
       "                                  &#x27;Var134&#x27;, &#x27;Var140&#x27;, &#x27;Var144&#x27;, &#x27;Var149&#x27;,\n",
       "                                  &#x27;Var153&#x27;, &#x27;Var160&#x27;, &#x27;Var163&#x27;])])</pre></div></div></div><div class=\"sk-parallel\"><div class=\"sk-parallel-item\"><div class=\"sk-item\"><div class=\"sk-label-container\"><div class=\"sk-label sk-toggleable\"><input class=\"sk-toggleable__control sk-hidden--visually\" id=\"sk-estimator-id-250\" type=\"checkbox\" ><label for=\"sk-estimator-id-250\" class=\"sk-toggleable__label sk-toggleable__label-arrow\">num</label><div class=\"sk-toggleable__content\"><pre>[&#x27;Var6&#x27;, &#x27;Var13&#x27;, &#x27;Var21&#x27;, &#x27;Var22&#x27;, &#x27;Var24&#x27;, &#x27;Var25&#x27;, &#x27;Var28&#x27;, &#x27;Var38&#x27;, &#x27;Var57&#x27;, &#x27;Var73&#x27;, &#x27;Var74&#x27;, &#x27;Var76&#x27;, &#x27;Var81&#x27;, &#x27;Var83&#x27;, &#x27;Var85&#x27;, &#x27;Var109&#x27;, &#x27;Var112&#x27;, &#x27;Var113&#x27;, &#x27;Var119&#x27;, &#x27;Var123&#x27;, &#x27;Var125&#x27;, &#x27;Var126&#x27;, &#x27;Var133&#x27;, &#x27;Var134&#x27;, &#x27;Var140&#x27;, &#x27;Var144&#x27;, &#x27;Var149&#x27;, &#x27;Var153&#x27;, &#x27;Var160&#x27;, &#x27;Var163&#x27;]</pre></div></div></div><div class=\"sk-serial\"><div class=\"sk-item\"><div class=\"sk-estimator sk-toggleable\"><input class=\"sk-toggleable__control sk-hidden--visually\" id=\"sk-estimator-id-251\" type=\"checkbox\" ><label for=\"sk-estimator-id-251\" class=\"sk-toggleable__label sk-toggleable__label-arrow\">StandardScaler</label><div class=\"sk-toggleable__content\"><pre>StandardScaler()</pre></div></div></div></div></div></div></div></div><div class=\"sk-item\"><div class=\"sk-estimator sk-toggleable\"><input class=\"sk-toggleable__control sk-hidden--visually\" id=\"sk-estimator-id-252\" type=\"checkbox\" ><label for=\"sk-estimator-id-252\" class=\"sk-toggleable__label sk-toggleable__label-arrow\">SMOTE</label><div class=\"sk-toggleable__content\"><pre>SMOTE(random_state=42)</pre></div></div></div><div class=\"sk-item sk-dashed-wrapped\"><div class=\"sk-label-container\"><div class=\"sk-label sk-toggleable\"><input class=\"sk-toggleable__control sk-hidden--visually\" id=\"sk-estimator-id-253\" type=\"checkbox\" ><label for=\"sk-estimator-id-253\" class=\"sk-toggleable__label sk-toggleable__label-arrow\">classifier: VotingClassifier</label><div class=\"sk-toggleable__content\"><pre>VotingClassifier(estimators=[(&#x27;rf&#x27;, RandomForestClassifier(random_state=42)),\n",
       "                             (&#x27;gb&#x27;,\n",
       "                              GradientBoostingClassifier(random_state=42))],\n",
       "                 voting=&#x27;soft&#x27;)</pre></div></div></div><div class=\"sk-parallel\"><div class=\"sk-parallel-item\"><div class=\"sk-item\"><div class=\"sk-label-container\"><div class=\"sk-label sk-toggleable\"><label>rf</label></div></div><div class=\"sk-serial\"><div class=\"sk-item\"><div class=\"sk-estimator sk-toggleable\"><input class=\"sk-toggleable__control sk-hidden--visually\" id=\"sk-estimator-id-254\" type=\"checkbox\" ><label for=\"sk-estimator-id-254\" class=\"sk-toggleable__label sk-toggleable__label-arrow\">RandomForestClassifier</label><div class=\"sk-toggleable__content\"><pre>RandomForestClassifier(random_state=42)</pre></div></div></div></div></div></div><div class=\"sk-parallel-item\"><div class=\"sk-item\"><div class=\"sk-label-container\"><div class=\"sk-label sk-toggleable\"><label>gb</label></div></div><div class=\"sk-serial\"><div class=\"sk-item\"><div class=\"sk-estimator sk-toggleable\"><input class=\"sk-toggleable__control sk-hidden--visually\" id=\"sk-estimator-id-255\" type=\"checkbox\" ><label for=\"sk-estimator-id-255\" class=\"sk-toggleable__label sk-toggleable__label-arrow\">GradientBoostingClassifier</label><div class=\"sk-toggleable__content\"><pre>GradientBoostingClassifier(random_state=42)</pre></div></div></div></div></div></div></div></div></div></div></div></div></div></div></div></div></div>"
      ],
      "text/plain": [
       "GridSearchCV(cv=3,\n",
       "             estimator=Pipeline(steps=[('preprocessor',\n",
       "                                        ColumnTransformer(transformers=[('num',\n",
       "                                                                         StandardScaler(),\n",
       "                                                                         ['Var6',\n",
       "                                                                          'Var13',\n",
       "                                                                          'Var21',\n",
       "                                                                          'Var22',\n",
       "                                                                          'Var24',\n",
       "                                                                          'Var25',\n",
       "                                                                          'Var28',\n",
       "                                                                          'Var38',\n",
       "                                                                          'Var57',\n",
       "                                                                          'Var73',\n",
       "                                                                          'Var74',\n",
       "                                                                          'Var76',\n",
       "                                                                          'Var81',\n",
       "                                                                          'Var83',\n",
       "                                                                          'Var85',\n",
       "                                                                          'Var109',\n",
       "                                                                          'Var112',\n",
       "                                                                          'Var113',\n",
       "                                                                          'Var119',\n",
       "                                                                          'Var123',\n",
       "                                                                          'Var125',\n",
       "                                                                          'Var126',\n",
       "                                                                          'Var133',\n",
       "                                                                          'Var134',\n",
       "                                                                          'Var140',\n",
       "                                                                          'Var144',\n",
       "                                                                          'Var149',\n",
       "                                                                          'Var15...\n",
       "                                                                      RandomForestClassifier(random_state=42)),\n",
       "                                                                     ('gb',\n",
       "                                                                      GradientBoostingClassifier(random_state=42))],\n",
       "                                                         voting='soft'))]),\n",
       "             n_jobs=-1,\n",
       "             param_grid={'classifier__rf__max_depth': [10, None],\n",
       "                         'classifier__rf__max_features': ['sqrt', None],\n",
       "                         'classifier__rf__min_samples_leaf': [1, 4],\n",
       "                         'classifier__rf__min_samples_split': [2, 10],\n",
       "                         'classifier__rf__n_estimators': [100, 200]},\n",
       "             scoring='balanced_accuracy')"
      ]
     },
     "execution_count": 1382,
     "metadata": {},
     "output_type": "execute_result"
    }
   ],
   "source": [
    "grid_search = GridSearchCV(\n",
    "    pipeline,\n",
    "    param_grid=param_grid,\n",
    "    cv=3,\n",
    "    scoring='balanced_accuracy',\n",
    "    n_jobs=-1\n",
    ")\n",
    "grid_search.fit(X_train, y_train)"
   ]
  },
  {
   "cell_type": "code",
   "execution_count": 1383,
   "metadata": {},
   "outputs": [
    {
     "name": "stdout",
     "output_type": "stream",
     "text": [
      "Best parameters from RandomizedSearchCV: {'classifier__rf__max_depth': 10, 'classifier__rf__max_features': None, 'classifier__rf__min_samples_leaf': 1, 'classifier__rf__min_samples_split': 2, 'classifier__rf__n_estimators': 200}\n"
     ]
    },
    {
     "data": {
      "text/html": [
       "<style>#sk-container-id-30 {color: black;}#sk-container-id-30 pre{padding: 0;}#sk-container-id-30 div.sk-toggleable {background-color: white;}#sk-container-id-30 label.sk-toggleable__label {cursor: pointer;display: block;width: 100%;margin-bottom: 0;padding: 0.3em;box-sizing: border-box;text-align: center;}#sk-container-id-30 label.sk-toggleable__label-arrow:before {content: \"▸\";float: left;margin-right: 0.25em;color: #696969;}#sk-container-id-30 label.sk-toggleable__label-arrow:hover:before {color: black;}#sk-container-id-30 div.sk-estimator:hover label.sk-toggleable__label-arrow:before {color: black;}#sk-container-id-30 div.sk-toggleable__content {max-height: 0;max-width: 0;overflow: hidden;text-align: left;background-color: #f0f8ff;}#sk-container-id-30 div.sk-toggleable__content pre {margin: 0.2em;color: black;border-radius: 0.25em;background-color: #f0f8ff;}#sk-container-id-30 input.sk-toggleable__control:checked~div.sk-toggleable__content {max-height: 200px;max-width: 100%;overflow: auto;}#sk-container-id-30 input.sk-toggleable__control:checked~label.sk-toggleable__label-arrow:before {content: \"▾\";}#sk-container-id-30 div.sk-estimator input.sk-toggleable__control:checked~label.sk-toggleable__label {background-color: #d4ebff;}#sk-container-id-30 div.sk-label input.sk-toggleable__control:checked~label.sk-toggleable__label {background-color: #d4ebff;}#sk-container-id-30 input.sk-hidden--visually {border: 0;clip: rect(1px 1px 1px 1px);clip: rect(1px, 1px, 1px, 1px);height: 1px;margin: -1px;overflow: hidden;padding: 0;position: absolute;width: 1px;}#sk-container-id-30 div.sk-estimator {font-family: monospace;background-color: #f0f8ff;border: 1px dotted black;border-radius: 0.25em;box-sizing: border-box;margin-bottom: 0.5em;}#sk-container-id-30 div.sk-estimator:hover {background-color: #d4ebff;}#sk-container-id-30 div.sk-parallel-item::after {content: \"\";width: 100%;border-bottom: 1px solid gray;flex-grow: 1;}#sk-container-id-30 div.sk-label:hover label.sk-toggleable__label {background-color: #d4ebff;}#sk-container-id-30 div.sk-serial::before {content: \"\";position: absolute;border-left: 1px solid gray;box-sizing: border-box;top: 0;bottom: 0;left: 50%;z-index: 0;}#sk-container-id-30 div.sk-serial {display: flex;flex-direction: column;align-items: center;background-color: white;padding-right: 0.2em;padding-left: 0.2em;position: relative;}#sk-container-id-30 div.sk-item {position: relative;z-index: 1;}#sk-container-id-30 div.sk-parallel {display: flex;align-items: stretch;justify-content: center;background-color: white;position: relative;}#sk-container-id-30 div.sk-item::before, #sk-container-id-30 div.sk-parallel-item::before {content: \"\";position: absolute;border-left: 1px solid gray;box-sizing: border-box;top: 0;bottom: 0;left: 50%;z-index: -1;}#sk-container-id-30 div.sk-parallel-item {display: flex;flex-direction: column;z-index: 1;position: relative;background-color: white;}#sk-container-id-30 div.sk-parallel-item:first-child::after {align-self: flex-end;width: 50%;}#sk-container-id-30 div.sk-parallel-item:last-child::after {align-self: flex-start;width: 50%;}#sk-container-id-30 div.sk-parallel-item:only-child::after {width: 0;}#sk-container-id-30 div.sk-dashed-wrapped {border: 1px dashed gray;margin: 0 0.4em 0.5em 0.4em;box-sizing: border-box;padding-bottom: 0.4em;background-color: white;}#sk-container-id-30 div.sk-label label {font-family: monospace;font-weight: bold;display: inline-block;line-height: 1.2em;}#sk-container-id-30 div.sk-label-container {text-align: center;}#sk-container-id-30 div.sk-container {/* jupyter's `normalize.less` sets `[hidden] { display: none; }` but bootstrap.min.css set `[hidden] { display: none !important; }` so we also need the `!important` here to be able to override the default hidden behavior on the sphinx rendered scikit-learn.org. See: https://github.com/scikit-learn/scikit-learn/issues/21755 */display: inline-block !important;position: relative;}#sk-container-id-30 div.sk-text-repr-fallback {display: none;}</style><div id=\"sk-container-id-30\" class=\"sk-top-container\"><div class=\"sk-text-repr-fallback\"><pre>Pipeline(steps=[(&#x27;preprocessor&#x27;,\n",
       "                 ColumnTransformer(transformers=[(&#x27;num&#x27;, StandardScaler(),\n",
       "                                                  [&#x27;Var6&#x27;, &#x27;Var13&#x27;, &#x27;Var21&#x27;,\n",
       "                                                   &#x27;Var22&#x27;, &#x27;Var24&#x27;, &#x27;Var25&#x27;,\n",
       "                                                   &#x27;Var28&#x27;, &#x27;Var38&#x27;, &#x27;Var57&#x27;,\n",
       "                                                   &#x27;Var73&#x27;, &#x27;Var74&#x27;, &#x27;Var76&#x27;,\n",
       "                                                   &#x27;Var81&#x27;, &#x27;Var83&#x27;, &#x27;Var85&#x27;,\n",
       "                                                   &#x27;Var109&#x27;, &#x27;Var112&#x27;, &#x27;Var113&#x27;,\n",
       "                                                   &#x27;Var119&#x27;, &#x27;Var123&#x27;, &#x27;Var125&#x27;,\n",
       "                                                   &#x27;Var126&#x27;, &#x27;Var133&#x27;, &#x27;Var134&#x27;,\n",
       "                                                   &#x27;Var140&#x27;, &#x27;Var144&#x27;, &#x27;Var149&#x27;,\n",
       "                                                   &#x27;Var153&#x27;, &#x27;Var160&#x27;,\n",
       "                                                   &#x27;Var163&#x27;])])),\n",
       "                (&#x27;oversampler&#x27;, SMOTE(random_state=42)),\n",
       "                (&#x27;classifier&#x27;,\n",
       "                 VotingClassifier(estimators=[(&#x27;rf&#x27;,\n",
       "                                               RandomForestClassifier(max_depth=10,\n",
       "                                                                      max_features=None,\n",
       "                                                                      n_estimators=200,\n",
       "                                                                      random_state=42)),\n",
       "                                              (&#x27;gb&#x27;,\n",
       "                                               GradientBoostingClassifier(random_state=42))],\n",
       "                                  voting=&#x27;soft&#x27;))])</pre><b>In a Jupyter environment, please rerun this cell to show the HTML representation or trust the notebook. <br />On GitHub, the HTML representation is unable to render, please try loading this page with nbviewer.org.</b></div><div class=\"sk-container\" hidden><div class=\"sk-item sk-dashed-wrapped\"><div class=\"sk-label-container\"><div class=\"sk-label sk-toggleable\"><input class=\"sk-toggleable__control sk-hidden--visually\" id=\"sk-estimator-id-256\" type=\"checkbox\" ><label for=\"sk-estimator-id-256\" class=\"sk-toggleable__label sk-toggleable__label-arrow\">Pipeline</label><div class=\"sk-toggleable__content\"><pre>Pipeline(steps=[(&#x27;preprocessor&#x27;,\n",
       "                 ColumnTransformer(transformers=[(&#x27;num&#x27;, StandardScaler(),\n",
       "                                                  [&#x27;Var6&#x27;, &#x27;Var13&#x27;, &#x27;Var21&#x27;,\n",
       "                                                   &#x27;Var22&#x27;, &#x27;Var24&#x27;, &#x27;Var25&#x27;,\n",
       "                                                   &#x27;Var28&#x27;, &#x27;Var38&#x27;, &#x27;Var57&#x27;,\n",
       "                                                   &#x27;Var73&#x27;, &#x27;Var74&#x27;, &#x27;Var76&#x27;,\n",
       "                                                   &#x27;Var81&#x27;, &#x27;Var83&#x27;, &#x27;Var85&#x27;,\n",
       "                                                   &#x27;Var109&#x27;, &#x27;Var112&#x27;, &#x27;Var113&#x27;,\n",
       "                                                   &#x27;Var119&#x27;, &#x27;Var123&#x27;, &#x27;Var125&#x27;,\n",
       "                                                   &#x27;Var126&#x27;, &#x27;Var133&#x27;, &#x27;Var134&#x27;,\n",
       "                                                   &#x27;Var140&#x27;, &#x27;Var144&#x27;, &#x27;Var149&#x27;,\n",
       "                                                   &#x27;Var153&#x27;, &#x27;Var160&#x27;,\n",
       "                                                   &#x27;Var163&#x27;])])),\n",
       "                (&#x27;oversampler&#x27;, SMOTE(random_state=42)),\n",
       "                (&#x27;classifier&#x27;,\n",
       "                 VotingClassifier(estimators=[(&#x27;rf&#x27;,\n",
       "                                               RandomForestClassifier(max_depth=10,\n",
       "                                                                      max_features=None,\n",
       "                                                                      n_estimators=200,\n",
       "                                                                      random_state=42)),\n",
       "                                              (&#x27;gb&#x27;,\n",
       "                                               GradientBoostingClassifier(random_state=42))],\n",
       "                                  voting=&#x27;soft&#x27;))])</pre></div></div></div><div class=\"sk-serial\"><div class=\"sk-item sk-dashed-wrapped\"><div class=\"sk-label-container\"><div class=\"sk-label sk-toggleable\"><input class=\"sk-toggleable__control sk-hidden--visually\" id=\"sk-estimator-id-257\" type=\"checkbox\" ><label for=\"sk-estimator-id-257\" class=\"sk-toggleable__label sk-toggleable__label-arrow\">preprocessor: ColumnTransformer</label><div class=\"sk-toggleable__content\"><pre>ColumnTransformer(transformers=[(&#x27;num&#x27;, StandardScaler(),\n",
       "                                 [&#x27;Var6&#x27;, &#x27;Var13&#x27;, &#x27;Var21&#x27;, &#x27;Var22&#x27;, &#x27;Var24&#x27;,\n",
       "                                  &#x27;Var25&#x27;, &#x27;Var28&#x27;, &#x27;Var38&#x27;, &#x27;Var57&#x27;, &#x27;Var73&#x27;,\n",
       "                                  &#x27;Var74&#x27;, &#x27;Var76&#x27;, &#x27;Var81&#x27;, &#x27;Var83&#x27;, &#x27;Var85&#x27;,\n",
       "                                  &#x27;Var109&#x27;, &#x27;Var112&#x27;, &#x27;Var113&#x27;, &#x27;Var119&#x27;,\n",
       "                                  &#x27;Var123&#x27;, &#x27;Var125&#x27;, &#x27;Var126&#x27;, &#x27;Var133&#x27;,\n",
       "                                  &#x27;Var134&#x27;, &#x27;Var140&#x27;, &#x27;Var144&#x27;, &#x27;Var149&#x27;,\n",
       "                                  &#x27;Var153&#x27;, &#x27;Var160&#x27;, &#x27;Var163&#x27;])])</pre></div></div></div><div class=\"sk-parallel\"><div class=\"sk-parallel-item\"><div class=\"sk-item\"><div class=\"sk-label-container\"><div class=\"sk-label sk-toggleable\"><input class=\"sk-toggleable__control sk-hidden--visually\" id=\"sk-estimator-id-258\" type=\"checkbox\" ><label for=\"sk-estimator-id-258\" class=\"sk-toggleable__label sk-toggleable__label-arrow\">num</label><div class=\"sk-toggleable__content\"><pre>[&#x27;Var6&#x27;, &#x27;Var13&#x27;, &#x27;Var21&#x27;, &#x27;Var22&#x27;, &#x27;Var24&#x27;, &#x27;Var25&#x27;, &#x27;Var28&#x27;, &#x27;Var38&#x27;, &#x27;Var57&#x27;, &#x27;Var73&#x27;, &#x27;Var74&#x27;, &#x27;Var76&#x27;, &#x27;Var81&#x27;, &#x27;Var83&#x27;, &#x27;Var85&#x27;, &#x27;Var109&#x27;, &#x27;Var112&#x27;, &#x27;Var113&#x27;, &#x27;Var119&#x27;, &#x27;Var123&#x27;, &#x27;Var125&#x27;, &#x27;Var126&#x27;, &#x27;Var133&#x27;, &#x27;Var134&#x27;, &#x27;Var140&#x27;, &#x27;Var144&#x27;, &#x27;Var149&#x27;, &#x27;Var153&#x27;, &#x27;Var160&#x27;, &#x27;Var163&#x27;]</pre></div></div></div><div class=\"sk-serial\"><div class=\"sk-item\"><div class=\"sk-estimator sk-toggleable\"><input class=\"sk-toggleable__control sk-hidden--visually\" id=\"sk-estimator-id-259\" type=\"checkbox\" ><label for=\"sk-estimator-id-259\" class=\"sk-toggleable__label sk-toggleable__label-arrow\">StandardScaler</label><div class=\"sk-toggleable__content\"><pre>StandardScaler()</pre></div></div></div></div></div></div></div></div><div class=\"sk-item\"><div class=\"sk-estimator sk-toggleable\"><input class=\"sk-toggleable__control sk-hidden--visually\" id=\"sk-estimator-id-260\" type=\"checkbox\" ><label for=\"sk-estimator-id-260\" class=\"sk-toggleable__label sk-toggleable__label-arrow\">SMOTE</label><div class=\"sk-toggleable__content\"><pre>SMOTE(random_state=42)</pre></div></div></div><div class=\"sk-item sk-dashed-wrapped\"><div class=\"sk-label-container\"><div class=\"sk-label sk-toggleable\"><input class=\"sk-toggleable__control sk-hidden--visually\" id=\"sk-estimator-id-261\" type=\"checkbox\" ><label for=\"sk-estimator-id-261\" class=\"sk-toggleable__label sk-toggleable__label-arrow\">classifier: VotingClassifier</label><div class=\"sk-toggleable__content\"><pre>VotingClassifier(estimators=[(&#x27;rf&#x27;,\n",
       "                              RandomForestClassifier(max_depth=10,\n",
       "                                                     max_features=None,\n",
       "                                                     n_estimators=200,\n",
       "                                                     random_state=42)),\n",
       "                             (&#x27;gb&#x27;,\n",
       "                              GradientBoostingClassifier(random_state=42))],\n",
       "                 voting=&#x27;soft&#x27;)</pre></div></div></div><div class=\"sk-parallel\"><div class=\"sk-parallel-item\"><div class=\"sk-item\"><div class=\"sk-label-container\"><div class=\"sk-label sk-toggleable\"><label>rf</label></div></div><div class=\"sk-serial\"><div class=\"sk-item\"><div class=\"sk-estimator sk-toggleable\"><input class=\"sk-toggleable__control sk-hidden--visually\" id=\"sk-estimator-id-262\" type=\"checkbox\" ><label for=\"sk-estimator-id-262\" class=\"sk-toggleable__label sk-toggleable__label-arrow\">RandomForestClassifier</label><div class=\"sk-toggleable__content\"><pre>RandomForestClassifier(max_depth=10, max_features=None, n_estimators=200,\n",
       "                       random_state=42)</pre></div></div></div></div></div></div><div class=\"sk-parallel-item\"><div class=\"sk-item\"><div class=\"sk-label-container\"><div class=\"sk-label sk-toggleable\"><label>gb</label></div></div><div class=\"sk-serial\"><div class=\"sk-item\"><div class=\"sk-estimator sk-toggleable\"><input class=\"sk-toggleable__control sk-hidden--visually\" id=\"sk-estimator-id-263\" type=\"checkbox\" ><label for=\"sk-estimator-id-263\" class=\"sk-toggleable__label sk-toggleable__label-arrow\">GradientBoostingClassifier</label><div class=\"sk-toggleable__content\"><pre>GradientBoostingClassifier(random_state=42)</pre></div></div></div></div></div></div></div></div></div></div></div></div>"
      ],
      "text/plain": [
       "Pipeline(steps=[('preprocessor',\n",
       "                 ColumnTransformer(transformers=[('num', StandardScaler(),\n",
       "                                                  ['Var6', 'Var13', 'Var21',\n",
       "                                                   'Var22', 'Var24', 'Var25',\n",
       "                                                   'Var28', 'Var38', 'Var57',\n",
       "                                                   'Var73', 'Var74', 'Var76',\n",
       "                                                   'Var81', 'Var83', 'Var85',\n",
       "                                                   'Var109', 'Var112', 'Var113',\n",
       "                                                   'Var119', 'Var123', 'Var125',\n",
       "                                                   'Var126', 'Var133', 'Var134',\n",
       "                                                   'Var140', 'Var144', 'Var149',\n",
       "                                                   'Var153', 'Var160',\n",
       "                                                   'Var163'])])),\n",
       "                ('oversampler', SMOTE(random_state=42)),\n",
       "                ('classifier',\n",
       "                 VotingClassifier(estimators=[('rf',\n",
       "                                               RandomForestClassifier(max_depth=10,\n",
       "                                                                      max_features=None,\n",
       "                                                                      n_estimators=200,\n",
       "                                                                      random_state=42)),\n",
       "                                              ('gb',\n",
       "                                               GradientBoostingClassifier(random_state=42))],\n",
       "                                  voting='soft'))])"
      ]
     },
     "execution_count": 1383,
     "metadata": {},
     "output_type": "execute_result"
    }
   ],
   "source": [
    "print(f\"Best parameters from RandomizedSearchCV: {grid_search.best_params_}\")\n",
    "pipeline.set_params(**grid_search.best_params_)"
   ]
  },
  {
   "cell_type": "code",
   "execution_count": 1384,
   "metadata": {},
   "outputs": [],
   "source": [
    "pipeline.fit(X_train, y_train)\n",
    "y_pred = pipeline.predict(X_val)"
   ]
  },
  {
   "cell_type": "code",
   "execution_count": 1385,
   "metadata": {},
   "outputs": [
    {
     "name": "stdout",
     "output_type": "stream",
     "text": [
      "Balanced Accuracy: 0.8409392964713469\n",
      "              precision    recall  f1-score   support\n",
      "\n",
      "           0       0.97      0.82      0.89      1259\n",
      "           1       0.43      0.86      0.58       202\n",
      "\n",
      "    accuracy                           0.83      1461\n",
      "   macro avg       0.70      0.84      0.73      1461\n",
      "weighted avg       0.90      0.83      0.85      1461\n",
      "\n"
     ]
    }
   ],
   "source": [
    "print(\"Balanced Accuracy:\", balanced_accuracy_score(y_val, y_pred))\n",
    "print(classification_report(y_val, y_pred))"
   ]
  },
  {
   "cell_type": "code",
   "execution_count": 1386,
   "metadata": {},
   "outputs": [
    {
     "data": {
      "text/html": [
       "<style>#sk-container-id-31 {color: black;}#sk-container-id-31 pre{padding: 0;}#sk-container-id-31 div.sk-toggleable {background-color: white;}#sk-container-id-31 label.sk-toggleable__label {cursor: pointer;display: block;width: 100%;margin-bottom: 0;padding: 0.3em;box-sizing: border-box;text-align: center;}#sk-container-id-31 label.sk-toggleable__label-arrow:before {content: \"▸\";float: left;margin-right: 0.25em;color: #696969;}#sk-container-id-31 label.sk-toggleable__label-arrow:hover:before {color: black;}#sk-container-id-31 div.sk-estimator:hover label.sk-toggleable__label-arrow:before {color: black;}#sk-container-id-31 div.sk-toggleable__content {max-height: 0;max-width: 0;overflow: hidden;text-align: left;background-color: #f0f8ff;}#sk-container-id-31 div.sk-toggleable__content pre {margin: 0.2em;color: black;border-radius: 0.25em;background-color: #f0f8ff;}#sk-container-id-31 input.sk-toggleable__control:checked~div.sk-toggleable__content {max-height: 200px;max-width: 100%;overflow: auto;}#sk-container-id-31 input.sk-toggleable__control:checked~label.sk-toggleable__label-arrow:before {content: \"▾\";}#sk-container-id-31 div.sk-estimator input.sk-toggleable__control:checked~label.sk-toggleable__label {background-color: #d4ebff;}#sk-container-id-31 div.sk-label input.sk-toggleable__control:checked~label.sk-toggleable__label {background-color: #d4ebff;}#sk-container-id-31 input.sk-hidden--visually {border: 0;clip: rect(1px 1px 1px 1px);clip: rect(1px, 1px, 1px, 1px);height: 1px;margin: -1px;overflow: hidden;padding: 0;position: absolute;width: 1px;}#sk-container-id-31 div.sk-estimator {font-family: monospace;background-color: #f0f8ff;border: 1px dotted black;border-radius: 0.25em;box-sizing: border-box;margin-bottom: 0.5em;}#sk-container-id-31 div.sk-estimator:hover {background-color: #d4ebff;}#sk-container-id-31 div.sk-parallel-item::after {content: \"\";width: 100%;border-bottom: 1px solid gray;flex-grow: 1;}#sk-container-id-31 div.sk-label:hover label.sk-toggleable__label {background-color: #d4ebff;}#sk-container-id-31 div.sk-serial::before {content: \"\";position: absolute;border-left: 1px solid gray;box-sizing: border-box;top: 0;bottom: 0;left: 50%;z-index: 0;}#sk-container-id-31 div.sk-serial {display: flex;flex-direction: column;align-items: center;background-color: white;padding-right: 0.2em;padding-left: 0.2em;position: relative;}#sk-container-id-31 div.sk-item {position: relative;z-index: 1;}#sk-container-id-31 div.sk-parallel {display: flex;align-items: stretch;justify-content: center;background-color: white;position: relative;}#sk-container-id-31 div.sk-item::before, #sk-container-id-31 div.sk-parallel-item::before {content: \"\";position: absolute;border-left: 1px solid gray;box-sizing: border-box;top: 0;bottom: 0;left: 50%;z-index: -1;}#sk-container-id-31 div.sk-parallel-item {display: flex;flex-direction: column;z-index: 1;position: relative;background-color: white;}#sk-container-id-31 div.sk-parallel-item:first-child::after {align-self: flex-end;width: 50%;}#sk-container-id-31 div.sk-parallel-item:last-child::after {align-self: flex-start;width: 50%;}#sk-container-id-31 div.sk-parallel-item:only-child::after {width: 0;}#sk-container-id-31 div.sk-dashed-wrapped {border: 1px dashed gray;margin: 0 0.4em 0.5em 0.4em;box-sizing: border-box;padding-bottom: 0.4em;background-color: white;}#sk-container-id-31 div.sk-label label {font-family: monospace;font-weight: bold;display: inline-block;line-height: 1.2em;}#sk-container-id-31 div.sk-label-container {text-align: center;}#sk-container-id-31 div.sk-container {/* jupyter's `normalize.less` sets `[hidden] { display: none; }` but bootstrap.min.css set `[hidden] { display: none !important; }` so we also need the `!important` here to be able to override the default hidden behavior on the sphinx rendered scikit-learn.org. See: https://github.com/scikit-learn/scikit-learn/issues/21755 */display: inline-block !important;position: relative;}#sk-container-id-31 div.sk-text-repr-fallback {display: none;}</style><div id=\"sk-container-id-31\" class=\"sk-top-container\"><div class=\"sk-text-repr-fallback\"><pre>Pipeline(steps=[(&#x27;preprocessor&#x27;,\n",
       "                 ColumnTransformer(transformers=[(&#x27;num&#x27;, StandardScaler(),\n",
       "                                                  [&#x27;Var6&#x27;, &#x27;Var13&#x27;, &#x27;Var21&#x27;,\n",
       "                                                   &#x27;Var22&#x27;, &#x27;Var24&#x27;, &#x27;Var25&#x27;,\n",
       "                                                   &#x27;Var28&#x27;, &#x27;Var38&#x27;, &#x27;Var57&#x27;,\n",
       "                                                   &#x27;Var73&#x27;, &#x27;Var74&#x27;, &#x27;Var76&#x27;,\n",
       "                                                   &#x27;Var81&#x27;, &#x27;Var83&#x27;, &#x27;Var85&#x27;,\n",
       "                                                   &#x27;Var109&#x27;, &#x27;Var112&#x27;, &#x27;Var113&#x27;,\n",
       "                                                   &#x27;Var119&#x27;, &#x27;Var123&#x27;, &#x27;Var125&#x27;,\n",
       "                                                   &#x27;Var126&#x27;, &#x27;Var133&#x27;, &#x27;Var134&#x27;,\n",
       "                                                   &#x27;Var140&#x27;, &#x27;Var144&#x27;, &#x27;Var149&#x27;,\n",
       "                                                   &#x27;Var153&#x27;, &#x27;Var160&#x27;,\n",
       "                                                   &#x27;Var163&#x27;])])),\n",
       "                (&#x27;oversampler&#x27;, SMOTE(random_state=42)),\n",
       "                (&#x27;classifier&#x27;,\n",
       "                 VotingClassifier(estimators=[(&#x27;rf&#x27;,\n",
       "                                               RandomForestClassifier(max_depth=10,\n",
       "                                                                      max_features=None,\n",
       "                                                                      n_estimators=200,\n",
       "                                                                      random_state=42)),\n",
       "                                              (&#x27;gb&#x27;,\n",
       "                                               GradientBoostingClassifier(random_state=42))],\n",
       "                                  voting=&#x27;soft&#x27;))])</pre><b>In a Jupyter environment, please rerun this cell to show the HTML representation or trust the notebook. <br />On GitHub, the HTML representation is unable to render, please try loading this page with nbviewer.org.</b></div><div class=\"sk-container\" hidden><div class=\"sk-item sk-dashed-wrapped\"><div class=\"sk-label-container\"><div class=\"sk-label sk-toggleable\"><input class=\"sk-toggleable__control sk-hidden--visually\" id=\"sk-estimator-id-264\" type=\"checkbox\" ><label for=\"sk-estimator-id-264\" class=\"sk-toggleable__label sk-toggleable__label-arrow\">Pipeline</label><div class=\"sk-toggleable__content\"><pre>Pipeline(steps=[(&#x27;preprocessor&#x27;,\n",
       "                 ColumnTransformer(transformers=[(&#x27;num&#x27;, StandardScaler(),\n",
       "                                                  [&#x27;Var6&#x27;, &#x27;Var13&#x27;, &#x27;Var21&#x27;,\n",
       "                                                   &#x27;Var22&#x27;, &#x27;Var24&#x27;, &#x27;Var25&#x27;,\n",
       "                                                   &#x27;Var28&#x27;, &#x27;Var38&#x27;, &#x27;Var57&#x27;,\n",
       "                                                   &#x27;Var73&#x27;, &#x27;Var74&#x27;, &#x27;Var76&#x27;,\n",
       "                                                   &#x27;Var81&#x27;, &#x27;Var83&#x27;, &#x27;Var85&#x27;,\n",
       "                                                   &#x27;Var109&#x27;, &#x27;Var112&#x27;, &#x27;Var113&#x27;,\n",
       "                                                   &#x27;Var119&#x27;, &#x27;Var123&#x27;, &#x27;Var125&#x27;,\n",
       "                                                   &#x27;Var126&#x27;, &#x27;Var133&#x27;, &#x27;Var134&#x27;,\n",
       "                                                   &#x27;Var140&#x27;, &#x27;Var144&#x27;, &#x27;Var149&#x27;,\n",
       "                                                   &#x27;Var153&#x27;, &#x27;Var160&#x27;,\n",
       "                                                   &#x27;Var163&#x27;])])),\n",
       "                (&#x27;oversampler&#x27;, SMOTE(random_state=42)),\n",
       "                (&#x27;classifier&#x27;,\n",
       "                 VotingClassifier(estimators=[(&#x27;rf&#x27;,\n",
       "                                               RandomForestClassifier(max_depth=10,\n",
       "                                                                      max_features=None,\n",
       "                                                                      n_estimators=200,\n",
       "                                                                      random_state=42)),\n",
       "                                              (&#x27;gb&#x27;,\n",
       "                                               GradientBoostingClassifier(random_state=42))],\n",
       "                                  voting=&#x27;soft&#x27;))])</pre></div></div></div><div class=\"sk-serial\"><div class=\"sk-item sk-dashed-wrapped\"><div class=\"sk-label-container\"><div class=\"sk-label sk-toggleable\"><input class=\"sk-toggleable__control sk-hidden--visually\" id=\"sk-estimator-id-265\" type=\"checkbox\" ><label for=\"sk-estimator-id-265\" class=\"sk-toggleable__label sk-toggleable__label-arrow\">preprocessor: ColumnTransformer</label><div class=\"sk-toggleable__content\"><pre>ColumnTransformer(transformers=[(&#x27;num&#x27;, StandardScaler(),\n",
       "                                 [&#x27;Var6&#x27;, &#x27;Var13&#x27;, &#x27;Var21&#x27;, &#x27;Var22&#x27;, &#x27;Var24&#x27;,\n",
       "                                  &#x27;Var25&#x27;, &#x27;Var28&#x27;, &#x27;Var38&#x27;, &#x27;Var57&#x27;, &#x27;Var73&#x27;,\n",
       "                                  &#x27;Var74&#x27;, &#x27;Var76&#x27;, &#x27;Var81&#x27;, &#x27;Var83&#x27;, &#x27;Var85&#x27;,\n",
       "                                  &#x27;Var109&#x27;, &#x27;Var112&#x27;, &#x27;Var113&#x27;, &#x27;Var119&#x27;,\n",
       "                                  &#x27;Var123&#x27;, &#x27;Var125&#x27;, &#x27;Var126&#x27;, &#x27;Var133&#x27;,\n",
       "                                  &#x27;Var134&#x27;, &#x27;Var140&#x27;, &#x27;Var144&#x27;, &#x27;Var149&#x27;,\n",
       "                                  &#x27;Var153&#x27;, &#x27;Var160&#x27;, &#x27;Var163&#x27;])])</pre></div></div></div><div class=\"sk-parallel\"><div class=\"sk-parallel-item\"><div class=\"sk-item\"><div class=\"sk-label-container\"><div class=\"sk-label sk-toggleable\"><input class=\"sk-toggleable__control sk-hidden--visually\" id=\"sk-estimator-id-266\" type=\"checkbox\" ><label for=\"sk-estimator-id-266\" class=\"sk-toggleable__label sk-toggleable__label-arrow\">num</label><div class=\"sk-toggleable__content\"><pre>[&#x27;Var6&#x27;, &#x27;Var13&#x27;, &#x27;Var21&#x27;, &#x27;Var22&#x27;, &#x27;Var24&#x27;, &#x27;Var25&#x27;, &#x27;Var28&#x27;, &#x27;Var38&#x27;, &#x27;Var57&#x27;, &#x27;Var73&#x27;, &#x27;Var74&#x27;, &#x27;Var76&#x27;, &#x27;Var81&#x27;, &#x27;Var83&#x27;, &#x27;Var85&#x27;, &#x27;Var109&#x27;, &#x27;Var112&#x27;, &#x27;Var113&#x27;, &#x27;Var119&#x27;, &#x27;Var123&#x27;, &#x27;Var125&#x27;, &#x27;Var126&#x27;, &#x27;Var133&#x27;, &#x27;Var134&#x27;, &#x27;Var140&#x27;, &#x27;Var144&#x27;, &#x27;Var149&#x27;, &#x27;Var153&#x27;, &#x27;Var160&#x27;, &#x27;Var163&#x27;]</pre></div></div></div><div class=\"sk-serial\"><div class=\"sk-item\"><div class=\"sk-estimator sk-toggleable\"><input class=\"sk-toggleable__control sk-hidden--visually\" id=\"sk-estimator-id-267\" type=\"checkbox\" ><label for=\"sk-estimator-id-267\" class=\"sk-toggleable__label sk-toggleable__label-arrow\">StandardScaler</label><div class=\"sk-toggleable__content\"><pre>StandardScaler()</pre></div></div></div></div></div></div></div></div><div class=\"sk-item\"><div class=\"sk-estimator sk-toggleable\"><input class=\"sk-toggleable__control sk-hidden--visually\" id=\"sk-estimator-id-268\" type=\"checkbox\" ><label for=\"sk-estimator-id-268\" class=\"sk-toggleable__label sk-toggleable__label-arrow\">SMOTE</label><div class=\"sk-toggleable__content\"><pre>SMOTE(random_state=42)</pre></div></div></div><div class=\"sk-item sk-dashed-wrapped\"><div class=\"sk-label-container\"><div class=\"sk-label sk-toggleable\"><input class=\"sk-toggleable__control sk-hidden--visually\" id=\"sk-estimator-id-269\" type=\"checkbox\" ><label for=\"sk-estimator-id-269\" class=\"sk-toggleable__label sk-toggleable__label-arrow\">classifier: VotingClassifier</label><div class=\"sk-toggleable__content\"><pre>VotingClassifier(estimators=[(&#x27;rf&#x27;,\n",
       "                              RandomForestClassifier(max_depth=10,\n",
       "                                                     max_features=None,\n",
       "                                                     n_estimators=200,\n",
       "                                                     random_state=42)),\n",
       "                             (&#x27;gb&#x27;,\n",
       "                              GradientBoostingClassifier(random_state=42))],\n",
       "                 voting=&#x27;soft&#x27;)</pre></div></div></div><div class=\"sk-parallel\"><div class=\"sk-parallel-item\"><div class=\"sk-item\"><div class=\"sk-label-container\"><div class=\"sk-label sk-toggleable\"><label>rf</label></div></div><div class=\"sk-serial\"><div class=\"sk-item\"><div class=\"sk-estimator sk-toggleable\"><input class=\"sk-toggleable__control sk-hidden--visually\" id=\"sk-estimator-id-270\" type=\"checkbox\" ><label for=\"sk-estimator-id-270\" class=\"sk-toggleable__label sk-toggleable__label-arrow\">RandomForestClassifier</label><div class=\"sk-toggleable__content\"><pre>RandomForestClassifier(max_depth=10, max_features=None, n_estimators=200,\n",
       "                       random_state=42)</pre></div></div></div></div></div></div><div class=\"sk-parallel-item\"><div class=\"sk-item\"><div class=\"sk-label-container\"><div class=\"sk-label sk-toggleable\"><label>gb</label></div></div><div class=\"sk-serial\"><div class=\"sk-item\"><div class=\"sk-estimator sk-toggleable\"><input class=\"sk-toggleable__control sk-hidden--visually\" id=\"sk-estimator-id-271\" type=\"checkbox\" ><label for=\"sk-estimator-id-271\" class=\"sk-toggleable__label sk-toggleable__label-arrow\">GradientBoostingClassifier</label><div class=\"sk-toggleable__content\"><pre>GradientBoostingClassifier(random_state=42)</pre></div></div></div></div></div></div></div></div></div></div></div></div>"
      ],
      "text/plain": [
       "Pipeline(steps=[('preprocessor',\n",
       "                 ColumnTransformer(transformers=[('num', StandardScaler(),\n",
       "                                                  ['Var6', 'Var13', 'Var21',\n",
       "                                                   'Var22', 'Var24', 'Var25',\n",
       "                                                   'Var28', 'Var38', 'Var57',\n",
       "                                                   'Var73', 'Var74', 'Var76',\n",
       "                                                   'Var81', 'Var83', 'Var85',\n",
       "                                                   'Var109', 'Var112', 'Var113',\n",
       "                                                   'Var119', 'Var123', 'Var125',\n",
       "                                                   'Var126', 'Var133', 'Var134',\n",
       "                                                   'Var140', 'Var144', 'Var149',\n",
       "                                                   'Var153', 'Var160',\n",
       "                                                   'Var163'])])),\n",
       "                ('oversampler', SMOTE(random_state=42)),\n",
       "                ('classifier',\n",
       "                 VotingClassifier(estimators=[('rf',\n",
       "                                               RandomForestClassifier(max_depth=10,\n",
       "                                                                      max_features=None,\n",
       "                                                                      n_estimators=200,\n",
       "                                                                      random_state=42)),\n",
       "                                              ('gb',\n",
       "                                               GradientBoostingClassifier(random_state=42))],\n",
       "                                  voting='soft'))])"
      ]
     },
     "execution_count": 1386,
     "metadata": {},
     "output_type": "execute_result"
    }
   ],
   "source": [
    "pipeline.fit(X, y)"
   ]
  },
  {
   "cell_type": "code",
   "execution_count": 1387,
   "metadata": {},
   "outputs": [],
   "source": [
    "test_data['y'] = pipeline.predict(X_test)"
   ]
  },
  {
   "cell_type": "code",
   "execution_count": 1388,
   "metadata": {},
   "outputs": [
    {
     "name": "stdout",
     "output_type": "stream",
     "text": [
      "Predictions saved to 'submission.csv'\n"
     ]
    }
   ],
   "source": [
    "test_data[['y']].to_csv('./submission.csv', index_label='index')\n",
    "\n",
    "print(\"Predictions saved to 'submission.csv'\")"
   ]
  }
 ],
 "metadata": {
  "kernelspec": {
   "display_name": "env_mlf",
   "language": "python",
   "name": "python3"
  },
  "language_info": {
   "codemirror_mode": {
    "name": "ipython",
    "version": 3
   },
   "file_extension": ".py",
   "mimetype": "text/x-python",
   "name": "python",
   "nbconvert_exporter": "python",
   "pygments_lexer": "ipython3",
   "version": "3.12.2"
  }
 },
 "nbformat": 4,
 "nbformat_minor": 2
}
