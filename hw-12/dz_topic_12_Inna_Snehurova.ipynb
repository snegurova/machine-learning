{
 "cells": [
  {
   "cell_type": "code",
   "execution_count": 72,
   "metadata": {},
   "outputs": [],
   "source": [
    "import warnings\n",
    "import pickle\n",
    "import numpy as np\n",
    "import pandas as pd\n",
    "from sklearn.feature_selection import mutual_info_regression\n",
    "from sklearn.preprocessing import StandardScaler\n",
    "from sklearn.cluster import KMeans\n",
    "import matplotlib.pyplot as plt\n",
    "import seaborn as sns\n",
    "from yellowbrick.cluster import KElbowVisualizer"
   ]
  },
  {
   "cell_type": "code",
   "execution_count": 73,
   "metadata": {},
   "outputs": [],
   "source": [
    "with open('./mod_05_topic_10_various_data.pkl', 'rb') as fl:\n",
    "    datasets = pickle.load(fl)"
   ]
  },
  {
   "cell_type": "code",
   "execution_count": 74,
   "metadata": {},
   "outputs": [
    {
     "data": {
      "text/html": [
       "<div>\n",
       "<style scoped>\n",
       "    .dataframe tbody tr th:only-of-type {\n",
       "        vertical-align: middle;\n",
       "    }\n",
       "\n",
       "    .dataframe tbody tr th {\n",
       "        vertical-align: top;\n",
       "    }\n",
       "\n",
       "    .dataframe thead th {\n",
       "        text-align: right;\n",
       "    }\n",
       "</style>\n",
       "<table border=\"1\" class=\"dataframe\">\n",
       "  <thead>\n",
       "    <tr style=\"text-align: right;\">\n",
       "      <th></th>\n",
       "      <th>Cement</th>\n",
       "      <th>BlastFurnaceSlag</th>\n",
       "      <th>FlyAsh</th>\n",
       "      <th>Water</th>\n",
       "      <th>Superplasticizer</th>\n",
       "      <th>CoarseAggregate</th>\n",
       "      <th>FineAggregate</th>\n",
       "      <th>Components</th>\n",
       "    </tr>\n",
       "  </thead>\n",
       "  <tbody>\n",
       "    <tr>\n",
       "      <th>0</th>\n",
       "      <td>102.0</td>\n",
       "      <td>153.0</td>\n",
       "      <td>0.0</td>\n",
       "      <td>192.0</td>\n",
       "      <td>0.0</td>\n",
       "      <td>887.0</td>\n",
       "      <td>942.0</td>\n",
       "      <td>5</td>\n",
       "    </tr>\n",
       "    <tr>\n",
       "      <th>1</th>\n",
       "      <td>108.3</td>\n",
       "      <td>162.4</td>\n",
       "      <td>0.0</td>\n",
       "      <td>203.5</td>\n",
       "      <td>0.0</td>\n",
       "      <td>938.2</td>\n",
       "      <td>849.0</td>\n",
       "      <td>5</td>\n",
       "    </tr>\n",
       "    <tr>\n",
       "      <th>2</th>\n",
       "      <td>116.0</td>\n",
       "      <td>173.0</td>\n",
       "      <td>0.0</td>\n",
       "      <td>192.0</td>\n",
       "      <td>0.0</td>\n",
       "      <td>909.8</td>\n",
       "      <td>891.9</td>\n",
       "      <td>5</td>\n",
       "    </tr>\n",
       "    <tr>\n",
       "      <th>3</th>\n",
       "      <td>122.6</td>\n",
       "      <td>183.9</td>\n",
       "      <td>0.0</td>\n",
       "      <td>203.5</td>\n",
       "      <td>0.0</td>\n",
       "      <td>958.2</td>\n",
       "      <td>800.1</td>\n",
       "      <td>5</td>\n",
       "    </tr>\n",
       "    <tr>\n",
       "      <th>4</th>\n",
       "      <td>132.0</td>\n",
       "      <td>206.5</td>\n",
       "      <td>160.9</td>\n",
       "      <td>178.9</td>\n",
       "      <td>5.5</td>\n",
       "      <td>866.9</td>\n",
       "      <td>735.6</td>\n",
       "      <td>7</td>\n",
       "    </tr>\n",
       "    <tr>\n",
       "      <th>5</th>\n",
       "      <td>132.0</td>\n",
       "      <td>207.0</td>\n",
       "      <td>161.0</td>\n",
       "      <td>179.0</td>\n",
       "      <td>5.0</td>\n",
       "      <td>867.0</td>\n",
       "      <td>736.0</td>\n",
       "      <td>7</td>\n",
       "    </tr>\n",
       "    <tr>\n",
       "      <th>6</th>\n",
       "      <td>133.0</td>\n",
       "      <td>200.0</td>\n",
       "      <td>0.0</td>\n",
       "      <td>192.0</td>\n",
       "      <td>0.0</td>\n",
       "      <td>927.4</td>\n",
       "      <td>839.2</td>\n",
       "      <td>5</td>\n",
       "    </tr>\n",
       "    <tr>\n",
       "      <th>7</th>\n",
       "      <td>133.0</td>\n",
       "      <td>210.0</td>\n",
       "      <td>0.0</td>\n",
       "      <td>196.0</td>\n",
       "      <td>3.0</td>\n",
       "      <td>949.0</td>\n",
       "      <td>795.0</td>\n",
       "      <td>6</td>\n",
       "    </tr>\n",
       "    <tr>\n",
       "      <th>8</th>\n",
       "      <td>133.1</td>\n",
       "      <td>210.2</td>\n",
       "      <td>0.0</td>\n",
       "      <td>195.7</td>\n",
       "      <td>3.1</td>\n",
       "      <td>949.4</td>\n",
       "      <td>795.3</td>\n",
       "      <td>6</td>\n",
       "    </tr>\n",
       "    <tr>\n",
       "      <th>9</th>\n",
       "      <td>134.7</td>\n",
       "      <td>0.0</td>\n",
       "      <td>165.7</td>\n",
       "      <td>180.2</td>\n",
       "      <td>10.0</td>\n",
       "      <td>961.0</td>\n",
       "      <td>804.9</td>\n",
       "      <td>6</td>\n",
       "    </tr>\n",
       "  </tbody>\n",
       "</table>\n",
       "</div>"
      ],
      "text/plain": [
       "   Cement  BlastFurnaceSlag  FlyAsh  Water  Superplasticizer  CoarseAggregate  \\\n",
       "0   102.0             153.0     0.0  192.0               0.0            887.0   \n",
       "1   108.3             162.4     0.0  203.5               0.0            938.2   \n",
       "2   116.0             173.0     0.0  192.0               0.0            909.8   \n",
       "3   122.6             183.9     0.0  203.5               0.0            958.2   \n",
       "4   132.0             206.5   160.9  178.9               5.5            866.9   \n",
       "5   132.0             207.0   161.0  179.0               5.0            867.0   \n",
       "6   133.0             200.0     0.0  192.0               0.0            927.4   \n",
       "7   133.0             210.0     0.0  196.0               3.0            949.0   \n",
       "8   133.1             210.2     0.0  195.7               3.1            949.4   \n",
       "9   134.7               0.0   165.7  180.2              10.0            961.0   \n",
       "\n",
       "   FineAggregate  Components  \n",
       "0          942.0           5  \n",
       "1          849.0           5  \n",
       "2          891.9           5  \n",
       "3          800.1           5  \n",
       "4          735.6           7  \n",
       "5          736.0           7  \n",
       "6          839.2           5  \n",
       "7          795.0           6  \n",
       "8          795.3           6  \n",
       "9          804.9           6  "
      ]
     },
     "execution_count": 74,
     "metadata": {},
     "output_type": "execute_result"
    }
   ],
   "source": [
    "concrete = datasets['concrete']\n",
    "\n",
    "components = ['Cement',\n",
    "              'BlastFurnaceSlag',\n",
    "              'FlyAsh',\n",
    "              'Water',\n",
    "              'Superplasticizer',\n",
    "              'CoarseAggregate',\n",
    "              'FineAggregate']\n",
    "\n",
    "concrete['Components'] = concrete[components].gt(0).sum(axis=1)\n",
    "\n",
    "concrete[components + ['Components']].head(10)"
   ]
  },
  {
   "cell_type": "code",
   "execution_count": 75,
   "metadata": {},
   "outputs": [],
   "source": [
    "scaler = StandardScaler()\n",
    "# concrete_scaled = scaler.fit_transform(concrete[components])\n",
    "concrete_scaled = scaler.fit_transform(concrete)"
   ]
  },
  {
   "cell_type": "code",
   "execution_count": 76,
   "metadata": {},
   "outputs": [
    {
     "data": {
      "image/png": "[encoded data removed]",
      "text/plain": [
       "<Figure size 800x550 with 1 Axes>"
      ]
     },
     "metadata": {},
     "output_type": "display_data"
    }
   ],
   "source": [
    "with warnings.catch_warnings():\n",
    "    warnings.simplefilter('ignore')\n",
    "\n",
    "    model_kmn = KMeans(random_state=42)\n",
    "    visualizer = KElbowVisualizer(model_kmn, k=(2, 10), timings=False)\n",
    "\n",
    "    visualizer.fit(concrete_scaled)\n",
    "    visualizer.show()\n",
    "\n",
    "    "
   ]
  },
  {
   "cell_type": "code",
   "execution_count": 77,
   "metadata": {},
   "outputs": [],
   "source": [
    "optimal_k = visualizer.elbow_value_\n",
    "kmeans = KMeans(n_clusters=optimal_k, random_state=42)"
   ]
  },
  {
   "cell_type": "code",
   "execution_count": 78,
   "metadata": {},
   "outputs": [],
   "source": [
    "with warnings.catch_warnings():\n",
    "    warnings.simplefilter('ignore')\n",
    "    concrete['Cluster'] = kmeans.fit_predict(concrete_scaled)"
   ]
  },
  {
   "cell_type": "code",
   "execution_count": 79,
   "metadata": {},
   "outputs": [],
   "source": [
    "cluster_summary = concrete.groupby('Cluster')[components + ['Components', 'CompressiveStrength']].median()"
   ]
  },
  {
   "cell_type": "code",
   "execution_count": 80,
   "metadata": {},
   "outputs": [],
   "source": [
    "cluster_sizes = concrete.groupby('Cluster').size()\n",
    "cluster_summary['Cluster Size'] = cluster_sizes"
   ]
  },
  {
   "cell_type": "code",
   "execution_count": 81,
   "metadata": {},
   "outputs": [
    {
     "name": "stdout",
     "output_type": "stream",
     "text": [
      "         Cement  BlastFurnaceSlag  FlyAsh  Water  Superplasticizer  \\\n",
      "Cluster                                                              \n",
      "0         166.0            186.70     0.0  192.0              0.00   \n",
      "1         164.0            118.00   115.6  195.0              8.50   \n",
      "2         212.0              0.00   124.8  171.5              9.50   \n",
      "3         339.0              0.00     0.0  188.0              0.00   \n",
      "4         360.8            119.85     0.0  166.0              9.25   \n",
      "\n",
      "         CoarseAggregate  FineAggregate  Components  CompressiveStrength  \\\n",
      "Cluster                                                                    \n",
      "0                  977.0         748.50         5.0               33.190   \n",
      "1                  879.6         736.60         7.0               32.240   \n",
      "2                 1005.8         793.50         6.0               40.390   \n",
      "3                 1040.0         774.50         4.0               33.995   \n",
      "4                  918.5         786.25         6.0               58.760   \n",
      "\n",
      "         Cluster Size  \n",
      "Cluster                \n",
      "0                  77  \n",
      "1                 107  \n",
      "2                  87  \n",
      "3                  82  \n",
      "4                  74  \n"
     ]
    }
   ],
   "source": [
    "print(cluster_summary)"
   ]
  },
  {
   "cell_type": "markdown",
   "metadata": {},
   "source": [
    "###"
   ]
  },
  {
   "cell_type": "markdown",
   "metadata": {},
   "source": [
    "### Аналіз результатів\n",
    "1. Різні пропорції компонентів у кластерах\n",
    "    - Кластер 0: Помірний вміст цементу (166.0), високий рівень доменного шлаку (186.70), відсутність флюашу та суперпластифікатора. Міцність на стиск: 33.190 (середній показник). Кластер представляє рецептури, які використовують шлак для заміни цементу, що може знижувати вартість, але впливає на міцність.\n",
    "    - Кластер 1: Збалансований вміст цементу (164.0), доменного шлаку (118.00), флюашу (115.6), води (195.0) і суперпластифікатора (8.50). Міцність на стиск: 32.240 (середній показник).Комплексна рецептура, яка може забезпечувати різноманітні властивості бетону завдяки використанню великої кількості компонентів.\n",
    "    - Кластер 2: Високий вміст цементу (212.0), флюашу (124.8), помірний вміст води (171.5) і суперпластифікатора (9.50). Міцність на стиск: 40.390 (вища за середню). Рецептури з підвищеною міцністю завдяки високому вмісту цементу.\n",
    "    - Кластер 3: Дуже високий вміст цементу (339.0), відсутність шлаку та флюашу, помірна кількість води (188.0). Міцність на стиск: 33.995 (середній показник). Прості рецептури з фокусом на високий вміст цементу.\n",
    "    - Кластер 4: Високий вміст цементу (360.8), помірна кількість шлаку (119.85) і суперпластифікатора (9.25). Міцність на стиск: 58.760 (найвищий показник). Рецептури, спрямовані на досягнення максимальної міцності.\n",
    "2. Кількість компонентів\n",
    "    - Кластер 1 має найбільше компонентів (по 7), що вказує на більш комплексні рецептури.\n",
    "    - Кластер 3 має найменше компонентів (4), що може свідчити про рецептури з простішими складовими, орієнтуючись на доступність або дешевизну компонентів.\n",
    "3. Розмір кластерів\n",
    "    - Кластер 1 має найбільший розмір (107), що означає, що більшість рецептур потрапляють саме в цю групу.\n",
    "    - Кластер 4 має найменший розмір (74), що може вказувати на менш поширені рецептури, можливо, зі специфічними вимогами.\n",
    "\n",
    "### Висновки:\n",
    "Отримані кластері дають уявлення про використання різних компонентів і їх кількість, що дає змогу зробити про можливі характеристики отриманого бетону і його міцність."
   ]
  }
 ],
 "metadata": {
  "kernelspec": {
   "display_name": "env_mlf",
   "language": "python",
   "name": "python3"
  },
  "language_info": {
   "codemirror_mode": {
    "name": "ipython",
    "version": 3
   },
   "file_extension": ".py",
   "mimetype": "text/x-python",
   "name": "python",
   "nbconvert_exporter": "python",
   "pygments_lexer": "ipython3",
   "version": "3.12.2"
  }
 },
 "nbformat": 4,
 "nbformat_minor": 2
}
